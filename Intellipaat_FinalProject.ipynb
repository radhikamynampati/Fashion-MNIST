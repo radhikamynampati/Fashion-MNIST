{
  "nbformat": 4,
  "nbformat_minor": 0,
  "metadata": {
    "colab": {
      "name": "Intellipaat_FinalProject.ipynb",
      "provenance": [],
      "collapsed_sections": []
    },
    "kernelspec": {
      "name": "python3",
      "display_name": "Python 3"
    }
  },
  "cells": [
    {
      "cell_type": "code",
      "metadata": {
        "id": "EP2x-1eLQAGw",
        "colab_type": "code",
        "colab": {}
      },
      "source": [
        "%tensorflow_version 2.x"
      ],
      "execution_count": 0,
      "outputs": []
    },
    {
      "cell_type": "code",
      "metadata": {
        "id": "4qPvZI6zRaH0",
        "colab_type": "code",
        "colab": {}
      },
      "source": [
        "#IMPORT\n",
        "import pandas as pd\n",
        "import numpy as np\n",
        "import matplotlib.pyplot as plt\n",
        "import cv2\n",
        "from PIL import Image\n",
        "from tensorflow.keras.datasets import fashion_mnist\n",
        "from tensorflow.keras.models import Sequential\n",
        "from tensorflow.keras.layers import Dense,Activation, Flatten, Dropout, MaxPooling2D, Conv2D\n",
        "from tensorflow.keras.activations import relu, softmax,sigmoid\n",
        "from tensorflow.keras.losses import categorical_crossentropy\n",
        "from tensorflow.keras.optimizers import SGD,Adam\n",
        "from tensorflow.keras.metrics import Accuracy\n",
        "from tensorflow.keras.utils import to_categorical\n",
        "import tensorflow as tf\n",
        "from sklearn.metrics import classification_report"
      ],
      "execution_count": 0,
      "outputs": []
    },
    {
      "cell_type": "code",
      "metadata": {
        "id": "6gm8xHyVR1CV",
        "colab_type": "code",
        "colab": {}
      },
      "source": [
        "def Edadataset(Datasetname,Indexno,FromTrainortest):\n",
        "  (train_input, train_output),(test_input, test_output) = Datasetname.load_data()\n",
        "  print(type(train_input), type(train_output), type(test_input), type(test_output))\n",
        "  print(train_input.shape, train_output.shape,test_input.shape, test_output.shape)\n",
        "  if str(FromTrainortest.upper()==\"TRAIN\"):\n",
        "    plt.imshow(train_input[Indexno],cmap=\"gray\")\n",
        "  else:\n",
        "    plt.imshow(test_input[Indexno],cmap=\"gray\")\n",
        "  switcher = { \n",
        "        0: \"T-shirt/top\", \n",
        "        1: \"Trouser\", \n",
        "        2: \"Pullover\",\n",
        "        3: \"Dress\",\n",
        "        4: \"Coat\",\n",
        "        5: \"Sandal\",\n",
        "        6: \"Shirt\",\n",
        "        7: \"Sneaker\",\n",
        "        8: \"Bag\",\n",
        "        9: \"Ankle boot\",\n",
        "    } \n",
        "  if str(FromTrainortest.upper()==\"TRAIN\"):\n",
        "    print(switcher.get(train_output[Indexno], \"nothing\")) \n",
        "  else:\n",
        "    print(switcher.get(test_output[Indexno], \"nothing\")) "
      ],
      "execution_count": 0,
      "outputs": []
    },
    {
      "cell_type": "code",
      "metadata": {
        "id": "v5UZwlyiNrRV",
        "colab_type": "code",
        "colab": {}
      },
      "source": [
        "(train_input, train_output),(test_input, test_output) = fashion_mnist.load_data()\n",
        "Final_train_input=train_input.reshape((train_input.shape[0], 28, 28, 1))\n",
        "Final_train_input = Final_train_input / 255\n",
        "Final_train_output= to_categorical(train_output)\n",
        "Final_test_input=test_input.reshape((test_input.shape[0], 28, 28, 1))\n",
        "Final_test_input = Final_test_input / 255\n",
        "Final_test_output = to_categorical(test_output)\n",
        "labelNames = [\"top\", \"trouser\", \"pullover\", \"dress\", \"coat\",\"sandal\", \"shirt\", \"sneaker\", \"bag\", \"ankle boot\"]\n",
        "Num_Epoch = 30\n",
        "Lr_Rate = 1e-2\n",
        "Batch_Size = 32"
      ],
      "execution_count": 0,
      "outputs": []
    },
    {
      "cell_type": "code",
      "metadata": {
        "id": "U4eLGTyB-ixU",
        "colab_type": "code",
        "colab": {}
      },
      "source": [
        "def FashionModel():\n",
        " model=Sequential()\n",
        " model.add(Conv2D(32, kernel_size=(3,3), input_shape=(28,28,1),padding=\"same\"))\n",
        " model.add(Activation(\"relu\"))\n",
        " model.add(Conv2D(32, kernel_size=(3,3),padding=\"same\"))\n",
        " model.add(Activation(\"relu\"))\n",
        " model.add(MaxPooling2D(pool_size=(2,2)))\n",
        " model.add(Dropout(0.25))\n",
        " model.add(Conv2D(64, kernel_size=(3,3),padding=\"same\"))\n",
        " model.add(Activation(\"relu\"))\n",
        " model.add(Conv2D(64, kernel_size=(3,3),padding=\"same\"))\n",
        " model.add(Activation(\"relu\"))\n",
        " model.add(MaxPooling2D(pool_size=(2,2)))\n",
        " model.add(Dropout(0.25))\n",
        " model.add(Flatten())\n",
        " model.add(Dense(512,activation=relu))\n",
        " model.add(Dropout(0.5))\n",
        " model.add(Dense(10,activation=softmax))\n",
        " opt = SGD(lr=Lr_Rate, momentum=0.9, decay=Lr_Rate / Num_Epoch)\n",
        " model.compile(optimizer=opt,loss=categorical_crossentropy,metrics=[\"acc\"])\n",
        " return model"
      ],
      "execution_count": 0,
      "outputs": []
    },
    {
      "cell_type": "markdown",
      "metadata": {
        "id": "4sXSncciaKAE",
        "colab_type": "text"
      },
      "source": [
        "## TENSORBOARD\n"
      ]
    },
    {
      "cell_type": "code",
      "metadata": {
        "id": "SIiONMOUGOww",
        "colab_type": "code",
        "colab": {}
      },
      "source": [
        "%load_ext tensorboard\n",
        "tbcallbk = tf.keras.callbacks.TensorBoard()\n",
        "stopMontior = tf.keras.callbacks.EarlyStopping(monitor=\"val_loss\",mode=\"auto\",verbose=1,patience=10)\n",
        "%tensorboard --logdir logs"
      ],
      "execution_count": 0,
      "outputs": []
    },
    {
      "cell_type": "code",
      "metadata": {
        "id": "pIk-ht2kGbe7",
        "colab_type": "code",
        "colab": {}
      },
      "source": [
        "def ClassificationModel():\n",
        " model=FashionModel()\n",
        " model_history=model.fit(Final_train_input,Final_train_output, Batch_Size, Num_Epoch,callbacks=[tbcallbk,stopMontior],validation_data=(Final_test_input,Final_test_output))\n",
        " train_loss = model_history.history['loss']\n",
        " val_loss   = model_history.history['val_loss']\n",
        " acc = model_history.history['acc']\n",
        " val_acc = model_history.history['val_acc']\n",
        " with open(\"loss_history.txt\", \"w\") as text_file:\n",
        "  for i in range(len(train_loss)):\n",
        "    output = \"Loss :\"+ str(train_loss[i]) + \" Acc :\" + str(acc[i]) + \" ValLoss :\" + str(val_loss[i]) + \" ValAcc :\" + str(val_acc[i])\n",
        "    text_file.write(\"EPOCH :- \"+str(int(i+1))+\"  \" + output + \"\\n\")\n",
        " preds = model.predict(Final_test_input)\n",
        " print(classification_report(Final_test_output.argmax(axis=1), preds.argmax(axis=1),target_names=labelNames))"
      ],
      "execution_count": 0,
      "outputs": []
    },
    {
      "cell_type": "markdown",
      "metadata": {
        "id": "JDjqgx_cbNte",
        "colab_type": "text"
      },
      "source": [
        "##SAVE MODEL"
      ]
    },
    {
      "cell_type": "code",
      "metadata": {
        "id": "s90tMrQIbSAp",
        "colab_type": "code",
        "colab": {}
      },
      "source": [
        "model.save(\"Fashinmnist_prediction.model\")\n",
        "! mkdir -p save_model\n",
        "model.save_weights(\"save_model/FashionMnist_weights\") \n",
        "with open(\"save_model/Fashionmnist_model_json.json\", \"w\") as model_json:\n",
        "  model_json.write(model.to_json())"
      ],
      "execution_count": 0,
      "outputs": []
    }
  ]
}